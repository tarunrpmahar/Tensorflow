{
 "cells": [
  {
   "cell_type": "code",
   "execution_count": 1,
   "metadata": {},
   "outputs": [],
   "source": [
    "import tensorflow as tf "
   ]
  },
  {
   "cell_type": "code",
   "execution_count": 2,
   "metadata": {},
   "outputs": [],
   "source": [
    "g=tf.Graph()"
   ]
  },
  {
   "cell_type": "code",
   "execution_count": 5,
   "metadata": {},
   "outputs": [
    {
     "name": "stdout",
     "output_type": "stream",
     "text": [
      "pre run=<tf.Variable 'var_2:0' shape=() dtype=int32_ref>\n",
      "post run=56\n"
     ]
    }
   ],
   "source": [
    "with g.as_default():\n",
    "    v=tf.Variable(56,name='var')\n",
    "    print('pre run={}'.format(v))\n",
    "    init_op=tf.global_variables_initializer()\n",
    "    #global_variables_initializer() allocates the memory to my variable\n",
    "with tf.Session(graph=g) as sess:\n",
    "    sess.run(init_op)\n",
    "    print('post run={}'.format(sess.run(v)))"
   ]
  },
  {
   "cell_type": "markdown",
   "metadata": {},
   "source": [
    "# wap to compute mean of a data having 5 features"
   ]
  },
  {
   "cell_type": "code",
   "execution_count": 10,
   "metadata": {},
   "outputs": [],
   "source": [
    "import tensorflow as tf \n",
    "import numpy as np"
   ]
  },
  {
   "cell_type": "code",
   "execution_count": 11,
   "metadata": {},
   "outputs": [],
   "source": [
    "g=tf.Graph()"
   ]
  },
  {
   "cell_type": "code",
   "execution_count": 13,
   "metadata": {},
   "outputs": [
    {
     "name": "stdout",
     "output_type": "stream",
     "text": [
      "mean=[0.41820163 0.5630925  0.7521976  0.5013698  0.34087884]\n",
      "mean=[0.49429762 0.50036615 0.45608455 0.5398929  0.44344053]\n"
     ]
    }
   ],
   "source": [
    "#placeholder use to supply input and target\n",
    "with g.as_default():\n",
    "    x=tf.placeholder(dtype=tf.float32,shape=(None,5))\n",
    "    m=tf.reduce_mean(x,axis=0)\n",
    "\n",
    "with tf.Session(graph=g) as sess:\n",
    "    x_data=np.random.uniform(low=0,high=1,size=(10,5))\n",
    "    print('mean={}'.format(sess.run(m,feed_dict={x:x_data})))\n",
    "    x_data1=np.random.uniform(low=0,high=1,size=(100,5))\n",
    "    print('mean={}'.format(sess.run(m,feed_dict={x:x_data1})))"
   ]
  },
  {
   "cell_type": "code",
   "execution_count": null,
   "metadata": {},
   "outputs": [],
   "source": []
  }
 ],
 "metadata": {
  "kernelspec": {
   "display_name": "Python 3",
   "language": "python",
   "name": "python3"
  },
  "language_info": {
   "codemirror_mode": {
    "name": "ipython",
    "version": 3
   },
   "file_extension": ".py",
   "mimetype": "text/x-python",
   "name": "python",
   "nbconvert_exporter": "python",
   "pygments_lexer": "ipython3",
   "version": "3.7.4"
  }
 },
 "nbformat": 4,
 "nbformat_minor": 2
}
