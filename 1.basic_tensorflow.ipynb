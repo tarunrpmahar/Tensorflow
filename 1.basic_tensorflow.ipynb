{
 "cells": [
  {
   "cell_type": "code",
   "execution_count": 1,
   "metadata": {},
   "outputs": [
    {
     "name": "stdout",
     "output_type": "stream",
     "text": [
      "1.14.0\n"
     ]
    }
   ],
   "source": [
    "import tensorflow as tf\n",
    "print(tf.__version__)"
   ]
  },
  {
   "cell_type": "code",
   "execution_count": 2,
   "metadata": {
    "scrolled": true
   },
   "outputs": [
    {
     "name": "stdout",
     "output_type": "stream",
     "text": [
      "[name: \"/device:CPU:0\"\n",
      "device_type: \"CPU\"\n",
      "memory_limit: 268435456\n",
      "locality {\n",
      "}\n",
      "incarnation: 11934981142396300823\n",
      ", name: \"/device:GPU:0\"\n",
      "device_type: \"GPU\"\n",
      "memory_limit: 3146173646\n",
      "locality {\n",
      "  bus_id: 1\n",
      "  links {\n",
      "  }\n",
      "}\n",
      "incarnation: 3030392310112645876\n",
      "physical_device_desc: \"device: 0, name: GeForce GTX 1050 Ti, pci bus id: 0000:01:00.0, compute capability: 6.1\"\n",
      "]\n"
     ]
    }
   ],
   "source": [
    "from tensorflow.python.client import device_lib\n",
    "print(device_lib.list_local_devices())"
   ]
  },
  {
   "cell_type": "code",
   "execution_count": 3,
   "metadata": {},
   "outputs": [
    {
     "data": {
      "text/plain": [
       "True"
      ]
     },
     "execution_count": 3,
     "metadata": {},
     "output_type": "execute_result"
    }
   ],
   "source": [
    "tf.test.is_gpu_available()"
   ]
  },
  {
   "cell_type": "code",
   "execution_count": 5,
   "metadata": {},
   "outputs": [
    {
     "data": {
      "text/plain": [
       "'/device:GPU:0'"
      ]
     },
     "execution_count": 5,
     "metadata": {},
     "output_type": "execute_result"
    }
   ],
   "source": [
    "tf.test.gpu_device_name()"
   ]
  },
  {
   "cell_type": "code",
   "execution_count": 6,
   "metadata": {},
   "outputs": [],
   "source": [
    "import numpy as np"
   ]
  },
  {
   "cell_type": "code",
   "execution_count": 7,
   "metadata": {},
   "outputs": [],
   "source": [
    "g=tf.Graph()"
   ]
  },
  {
   "cell_type": "code",
   "execution_count": 8,
   "metadata": {},
   "outputs": [
    {
     "name": "stdout",
     "output_type": "stream",
     "text": [
      "<tensorflow.python.framework.ops.Graph object at 0x00000201B997E108>\n",
      "True\n",
      "Tensor(\"Const:0\", shape=(2, 3), dtype=int32)\n",
      "<dtype: 'int32'>\n",
      "(2, 3)\n",
      "Tensor(\"Rank:0\", shape=(), dtype=int32)\n"
     ]
    }
   ],
   "source": [
    "with g.as_default():\n",
    "    #t1=tf.constant(np.pi)\n",
    "    t1=tf.constant([[2,3,4],[1,2,3]])\n",
    "    print(t1.graph)\n",
    "    print(t1.graph is tf.get_default_graph())\n",
    "    print(t1)\n",
    "    print(t1.dtype)\n",
    "    s1=t1.get_shape()\n",
    "    print(s1)\n",
    "    r1=tf.rank(t1)\n",
    "    print(r1)"
   ]
  },
  {
   "cell_type": "code",
   "execution_count": 9,
   "metadata": {},
   "outputs": [
    {
     "name": "stdout",
     "output_type": "stream",
     "text": [
      "Ranks: 2\n",
      "Tensor t1: [[2 3 4]\n",
      " [1 2 3]]\n"
     ]
    }
   ],
   "source": [
    "with tf.Session(graph=g) as sess:\n",
    "    print('Ranks:',r1.eval())\n",
    "    print('Tensor t1:',sess.run(t1))"
   ]
  },
  {
   "cell_type": "markdown",
   "metadata": {},
   "source": [
    "# to implement z=2*(a-b)+c"
   ]
  },
  {
   "cell_type": "code",
   "execution_count": 9,
   "metadata": {},
   "outputs": [],
   "source": [
    "#create graph and then create whole nodes\n",
    "with g.as_default():\n",
    "    #t1=tf.constant(np.pi)\n",
    "    a=tf.constant(1)\n",
    "    b=tf.constant(2)\n",
    "    c=tf.constant(3)\n",
    "    z=2*(a-b)+c"
   ]
  },
  {
   "cell_type": "code",
   "execution_count": 10,
   "metadata": {},
   "outputs": [
    {
     "name": "stdout",
     "output_type": "stream",
     "text": [
      "value: 1\n"
     ]
    }
   ],
   "source": [
    "#run throuhg session\n",
    "with tf.Session(graph=g) as sess:\n",
    "    print('value:',z.eval())\n",
    "    #print('value:',sess.run(z))"
   ]
  },
  {
   "cell_type": "markdown",
   "metadata": {},
   "source": [
    "# type casting of variable"
   ]
  },
  {
   "cell_type": "code",
   "execution_count": 11,
   "metadata": {},
   "outputs": [
    {
     "name": "stdout",
     "output_type": "stream",
     "text": [
      "<dtype: 'float32'>\n",
      "<dtype: 'int64'>\n"
     ]
    }
   ],
   "source": [
    "x=tf.constant([2,3,4],name='x',dtype=tf.float32)\n",
    "print(x.dtype)\n",
    "y=tf.cast(x,tf.int64)\n",
    "print(y.dtype)"
   ]
  },
  {
   "cell_type": "code",
   "execution_count": 12,
   "metadata": {},
   "outputs": [
    {
     "name": "stdout",
     "output_type": "stream",
     "text": [
      "<dtype: 'float32'>\n",
      "<dtype: 'int32'>\n"
     ]
    }
   ],
   "source": [
    "with g.as_default():\n",
    "    #t1=tf.constant(np.pi)\n",
    "    a=tf.constant(10,name='x',dtype=tf.float32)\n",
    "    print(a.dtype)\n",
    "    b=tf.cast(a,tf.int32)\n",
    "    print(b.dtype)"
   ]
  },
  {
   "cell_type": "code",
   "execution_count": 14,
   "metadata": {},
   "outputs": [
    {
     "name": "stdout",
     "output_type": "stream",
     "text": [
      "value: 10.0\n",
      "value: 10\n"
     ]
    }
   ],
   "source": [
    "with tf.Session(graph=g) as sess:\n",
    "    print('value:',a.eval())\n",
    "    print('value:',sess.run(b))"
   ]
  },
  {
   "cell_type": "markdown",
   "metadata": {},
   "source": [
    "# write a program to create a tensor of 2D with their shape and rank through interractive session"
   ]
  },
  {
   "cell_type": "code",
   "execution_count": 10,
   "metadata": {},
   "outputs": [
    {
     "name": "stdout",
     "output_type": "stream",
     "text": [
      "(2, 5)\n",
      "[[0. 0. 0. 0. 0.]\n",
      " [0. 0. 0. 0. 0.]]\n",
      "Rank: 2\n"
     ]
    }
   ],
   "source": [
    "sess=tf.InteractiveSession()\n",
    "a=tf.zeros(shape=(2,5))\n",
    "#a=tf.ones(shape=(10,2,3),dtype=tf.int32)\n",
    "print(a.get_shape())\n",
    "print(a.eval())\n",
    "print('Rank:',sess.run(tf.rank(a)))\n",
    "sess.close()"
   ]
  },
  {
   "cell_type": "code",
   "execution_count": 15,
   "metadata": {},
   "outputs": [
    {
     "name": "stdout",
     "output_type": "stream",
     "text": [
      "1\n"
     ]
    }
   ],
   "source": [
    "sess=tf.InteractiveSession()\n",
    "a=tf.constant(1)\n",
    "b=tf.constant(2)\n",
    "c=tf.constant(3)\n",
    "z=2*(a-b)+c\n",
    "print(z.eval())\n",
    "sess.close()"
   ]
  },
  {
   "cell_type": "markdown",
   "metadata": {},
   "source": [
    "# wap to implement matrix multiplication with vector A(3*3) x(3,1)"
   ]
  },
  {
   "cell_type": "code",
   "execution_count": 6,
   "metadata": {},
   "outputs": [
    {
     "name": "stdout",
     "output_type": "stream",
     "text": [
      "[[1 1 1]\n",
      " [1 1 1]\n",
      " [1 1 1]]\n",
      "[1 2 3]\n",
      "(3,) (3, 3)\n",
      "(3, 1)\n",
      "[[6]\n",
      " [6]\n",
      " [6]]\n"
     ]
    }
   ],
   "source": [
    "sess=tf.InteractiveSession()\n",
    "a=tf.ones(shape=(3,3),dtype=tf.int32)\n",
    "print(a.eval())\n",
    "\n",
    "x=tf.constant([1,2,3])\n",
    "print(x.eval())\n",
    "print(x.get_shape(),a.get_shape())\n",
    "\n",
    "#when only below code is run then it shows error\n",
    "x1=tf.expand_dims(x,1)   #we have to tell the dimension explicitly\n",
    "print(x1.get_shape())\n",
    "#ValueError: Shape must be rank 2 but is rank 1 for 'MatMul' (op: 'MatMul') with input shapes: [3,3], [3].\n",
    "b=tf.matmul(a,x1)\n",
    "print(b.eval())\n",
    "sess.close()"
   ]
  },
  {
   "cell_type": "markdown",
   "metadata": {},
   "source": [
    "# Name and Name_scope"
   ]
  },
  {
   "cell_type": "code",
   "execution_count": 3,
   "metadata": {},
   "outputs": [
    {
     "name": "stdout",
     "output_type": "stream",
     "text": [
      "a:0\n",
      "a_1:0\n",
      "a_2:0\n",
      "NetA/a:0\n",
      "NetA/a_1:0\n"
     ]
    }
   ],
   "source": [
    "sess=tf.InteractiveSession()\n",
    "a=tf.ones(shape=(3,3),name='a')\n",
    "b=tf.ones(shape=(3,3),name='a')\n",
    "c=tf.ones(shape=(3,3),name='a')\n",
    "print(a.name)\n",
    "print(b.name)\n",
    "print(c.name)\n",
    "with tf.name_scope('NetA'):\n",
    "    a=tf.zeros(shape=(3,3),name='a')\n",
    "    b=tf.zeros(shape=(3,3),name='a')\n",
    "    print(a.name)\n",
    "    print(b.name)\n",
    "#print(a.eval())\n",
    "sess.close()"
   ]
  },
  {
   "cell_type": "code",
   "execution_count": 2,
   "metadata": {},
   "outputs": [
    {
     "name": "stdout",
     "output_type": "stream",
     "text": [
      "<tf.Variable 'net_A/layer-1/weights:0' shape=(10, 4) dtype=float32_ref>\n",
      "<tf.Variable 'net_A/layer-1/weights_1:0' shape=(10, 14) dtype=float32_ref>\n",
      "<tf.Variable 'net_A/layer-2/weights:0' shape=(20, 14) dtype=float32_ref>\n"
     ]
    }
   ],
   "source": [
    "import tensorflow as tf\n",
    "g= tf.Graph()\n",
    "\n",
    "with g.as_default():\n",
    "    with tf.variable_scope('net_A'):\n",
    "        with tf.variable_scope('layer-1'):\n",
    "            w1= tf.Variable(tf.random_normal(shape=(10,4)),\n",
    "                       name='weights')\n",
    "            w2= tf.Variable(tf.random_normal(shape=(10,14)),\n",
    "                       name='weights')\n",
    "        with tf.variable_scope('layer-2'):\n",
    "            w3= tf.Variable(tf.random_normal(shape=(20,14)),\n",
    "                       name='weights')\n",
    "    print(w1)\n",
    "    print(w2)\n",
    "    print(w3)"
   ]
  },
  {
   "cell_type": "code",
   "execution_count": null,
   "metadata": {},
   "outputs": [],
   "source": []
  }
 ],
 "metadata": {
  "kernelspec": {
   "display_name": "Python 3",
   "language": "python",
   "name": "python3"
  },
  "language_info": {
   "codemirror_mode": {
    "name": "ipython",
    "version": 3
   },
   "file_extension": ".py",
   "mimetype": "text/x-python",
   "name": "python",
   "nbconvert_exporter": "python",
   "pygments_lexer": "ipython3",
   "version": "3.7.4"
  }
 },
 "nbformat": 4,
 "nbformat_minor": 2
}
